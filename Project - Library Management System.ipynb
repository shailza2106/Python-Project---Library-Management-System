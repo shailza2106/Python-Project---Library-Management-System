{
 "cells": [
  {
   "cell_type": "code",
   "execution_count": 1,
   "id": "cfe428d5",
   "metadata": {},
   "outputs": [],
   "source": [
    "class Library:\n",
    "    def __init__(self,books_present):\n",
    "        self.books=books_present\n",
    "\n",
    "    def display_books(self):\n",
    "        print(\"*** The books present in th Central Library are ***\")\n",
    "        for index,books in enumerate(self.books):\n",
    "            print(f\"{index+1} -> {books}\")\n",
    "\n",
    "    def assign_books(self,bookname):\n",
    "        if bookname in self.books:\n",
    "          self.books.remove(bookname)\n",
    "          print(f\"You have been assigned the book {bookname}. Please keep it safe and return it within a period of 30 days.\")\n",
    "        else:\n",
    "            print(f\"This {bookname} is not present in the Library right now. Please check within a few days.\")\n",
    "\n",
    "    def return_book(self,bookname):\n",
    "        print(f\"The book {bookname} has been added to the Library. Thanks for using our Library Management System.\")\n",
    "        self.books.append(bookname)"
   ]
  },
  {
   "cell_type": "code",
   "execution_count": 2,
   "id": "2a1103bc",
   "metadata": {},
   "outputs": [],
   "source": [
    "class Student:\n",
    "    \n",
    "    def basicInfo(self,student_name):\n",
    "        self.name=student_name\n",
    "        print(f\"{student_name} has borrowed the above book from the Central Library.\")\n",
    "    def timePeriod(self,no_of_days):\n",
    "        self.no_of_days=no_of_days\n",
    "        \n",
    "        if self.no_of_days>30:\n",
    "            print(f\"The total fine is : Rs. {no_of_days-30}\")\n",
    "        else:\n",
    "            print(\"The total fine = Rs.0\")\n"
   ]
  },
  {
   "cell_type": "code",
   "execution_count": 3,
   "id": "fff6bb7c",
   "metadata": {},
   "outputs": [
    {
     "name": "stdout",
     "output_type": "stream",
     "text": [
      "Please enter your name :Shailza Sharma\n",
      "*** Hi Shailza Sharma! Welcome to the Central Library ***\n",
      "\t1. Press 1 to display the books name.\n",
      "\t2. Press 2 to take a book.\n",
      "\t3. Press 3 to return a book.\n",
      "\t4. Press 4 to exit the Library.\n"
     ]
    }
   ],
   "source": [
    "if __name__==\"__main__\":\n",
    "    centralLibrary=Library([\"Computer\",\"Python\",\"R Programming\",\"Statistics\",\"FMS\",\"FAS\"])\n",
    "    studentInfo=Student()\n",
    "    student_name=input(\"Please enter your name :\")\n",
    "    print(f\"*** Hi {student_name}! Welcome to the Central Library ***\")\n",
    "    print(\"\\t1. Press 1 to display the books name.\\n\\t2. Press 2 to take a book.\\n\\t3. Press 3 to return a book.\\n\\t4. Press 4 to exit the Library.\")"
   ]
  },
  {
   "cell_type": "code",
   "execution_count": 4,
   "id": "47107156",
   "metadata": {},
   "outputs": [
    {
     "name": "stdout",
     "output_type": "stream",
     "text": [
      "Please enter your choice: 2\n",
      "Enter the name of the book you want to borrow: Python\n",
      "You have been assigned the book Python. Please keep it safe and return it within a period of 30 days.\n",
      "Shailza Sharma has borrowed the above book from the Central Library.\n",
      "Please enter your choice: 1\n",
      "*** The books present in th Central Library are ***\n",
      "1 -> Computer\n",
      "2 -> R Programming\n",
      "3 -> Statistics\n",
      "4 -> FMS\n",
      "5 -> FAS\n",
      "Please enter your choice: 3\n",
      "Enter the name of the book that you want to return: Python\n",
      "Please enter the total number of days the book was with you : 1\n",
      "The book Python has been added to the Library. Thanks for using our Library Management System.\n",
      "Thanks for returning the book Python to the Central Library\n",
      "The total fine = Rs.0\n",
      "Please enter your choice: 1\n",
      "*** The books present in th Central Library are ***\n",
      "1 -> Computer\n",
      "2 -> R Programming\n",
      "3 -> Statistics\n",
      "4 -> FMS\n",
      "5 -> FAS\n",
      "6 -> Python\n",
      "Please enter your choice: 4\n",
      "Thank you Shailza Sharma for using the Central Library. Have a nice day ahead!!\n"
     ]
    }
   ],
   "source": [
    "while(True):\n",
    "        user_input=int(input(\"Please enter your choice: \"))\n",
    "        if user_input==1:\n",
    "            centralLibrary.display_books()\n",
    "        elif user_input==2:\n",
    "            book_name=input(\"Enter the name of the book you want to borrow: \")\n",
    "            centralLibrary.assign_books(book_name)\n",
    "            studentInfo.basicInfo(student_name)\n",
    "        elif user_input==3:\n",
    "            book_name=input(\"Enter the name of the book that you want to return: \")\n",
    "            no_of_days=int(input(\"Please enter the total number of days the book was with you : \"))\n",
    "            centralLibrary.return_book(book_name)\n",
    "            print(f\"Thanks for returning the book {book_name} to the Central Library\")\n",
    "            studentInfo.timePeriod(no_of_days)\n",
    "        else :\n",
    "            print(f\"Thank you {student_name} for using the Central Library. Have a nice day ahead!!\")\n",
    "            break\n"
   ]
  },
  {
   "cell_type": "code",
   "execution_count": null,
   "id": "001ed144",
   "metadata": {},
   "outputs": [],
   "source": []
  }
 ],
 "metadata": {
  "kernelspec": {
   "display_name": "Python 3 (ipykernel)",
   "language": "python",
   "name": "python3"
  },
  "language_info": {
   "codemirror_mode": {
    "name": "ipython",
    "version": 3
   },
   "file_extension": ".py",
   "mimetype": "text/x-python",
   "name": "python",
   "nbconvert_exporter": "python",
   "pygments_lexer": "ipython3",
   "version": "3.9.5"
  }
 },
 "nbformat": 4,
 "nbformat_minor": 5
}
